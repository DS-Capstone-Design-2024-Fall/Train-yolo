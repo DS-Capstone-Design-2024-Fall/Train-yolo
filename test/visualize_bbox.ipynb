{
 "cells": [
  {
   "cell_type": "markdown",
   "metadata": {},
   "source": [
    "Prediction Bbox 시각화  \n",
    "무거우므로 웬만한 PC 에서는 안됨"
   ]
  },
  {
   "cell_type": "code",
   "execution_count": null,
   "metadata": {},
   "outputs": [],
   "source": [
    "from ultralytics import YOLO, settings\n",
    "from PIL import Image\n",
    "import os\n",
    "import gc\n",
    "from pathlib import Path\n",
    "\n",
    "# Load a pre-trained YOLO model\n",
    "model = YOLO(\"../train/v8m-result-ds3-balanced/weights/best.pt\")\n",
    "\n",
    "# Local PC enviroment\n",
    "path = f\"D:/Downloads/street-facilities-3/images/test\"\n",
    "dpath = f\"./prediction-images\"\n",
    "\n",
    "images = [f for f in os.listdir(path)]\n",
    "\n",
    "os.makedirs(dpath, exist_ok=True)\n",
    "\n",
    "# os 에서 open files 갯수 제한이 있으므로 제한 갯수 내의 파일을 한 묶음으로 처리\n",
    "# ulimit -a\n",
    "batch_size = 512\n",
    "for i in range(0, len(images) + batch_size, batch_size):\n",
    "    end = min(i + batch_size, len(images))\n",
    "    batch = images[i:end]\n",
    "    results = model.predict([os.path.join(path, f) for f in batch])\n",
    "\n",
    "    for j, r in enumerate(results):\n",
    "        # Plot results\n",
    "        im_bgr = r.plot()\n",
    "        im_rgb = Image.fromarray(im_bgr[..., ::-1])\n",
    "        im_rgb.save(f\"{dpath}/{Path(r.path).name}\")\n",
    "        del im_rgb  # Delete object\n",
    "    gc.collect()  # Force garbage collection\n"
   ]
  },
  {
   "cell_type": "markdown",
   "metadata": {},
   "source": [
    "정답 Bbox 시각화"
   ]
  },
  {
   "cell_type": "code",
   "execution_count": null,
   "metadata": {},
   "outputs": [
    {
     "name": "stdout",
     "output_type": "stream",
     "text": [
      "1 / 4894\n",
      "301 / 4894\n",
      "601 / 4894\n",
      "901 / 4894\n",
      "1201 / 4894\n",
      "1501 / 4894\n",
      "1801 / 4894\n",
      "2101 / 4894\n",
      "2401 / 4894\n",
      "2701 / 4894\n",
      "3001 / 4894\n",
      "3301 / 4894\n",
      "3601 / 4894\n",
      "3901 / 4894\n",
      "4201 / 4894\n",
      "4501 / 4894\n",
      "4801 / 4894\n"
     ]
    },
    {
     "ename": "FileNotFoundError",
     "evalue": "[Errno 2] No such file or directory: 'D:/Downloads/street-facilities-3/labels/test\\\\results0.txt'",
     "output_type": "error",
     "traceback": [
      "\u001b[1;31m---------------------------------------------------------------------------\u001b[0m",
      "\u001b[1;31mFileNotFoundError\u001b[0m                         Traceback (most recent call last)",
      "Cell \u001b[1;32mIn[3], line 62\u001b[0m\n\u001b[0;32m     59\u001b[0m warnings\u001b[38;5;241m.\u001b[39msimplefilter(\u001b[38;5;124m\"\u001b[39m\u001b[38;5;124mignore\u001b[39m\u001b[38;5;124m\"\u001b[39m, category\u001b[38;5;241m=\u001b[39m\u001b[38;5;167;01mUserWarning\u001b[39;00m)\n\u001b[0;32m     61\u001b[0m label \u001b[38;5;241m=\u001b[39m os\u001b[38;5;241m.\u001b[39mpath\u001b[38;5;241m.\u001b[39mjoin(label_dir, fname) \u001b[38;5;241m+\u001b[39m \u001b[38;5;124m\"\u001b[39m\u001b[38;5;124m.txt\u001b[39m\u001b[38;5;124m\"\u001b[39m\n\u001b[1;32m---> 62\u001b[0m \u001b[38;5;28;01mwith\u001b[39;00m \u001b[38;5;28;43mopen\u001b[39;49m\u001b[43m(\u001b[49m\u001b[43mlabel\u001b[49m\u001b[43m,\u001b[49m\u001b[43m \u001b[49m\u001b[38;5;124;43m\"\u001b[39;49m\u001b[38;5;124;43mr\u001b[39;49m\u001b[38;5;124;43m\"\u001b[39;49m\u001b[43m)\u001b[49m \u001b[38;5;28;01mas\u001b[39;00m file:\n\u001b[0;32m     63\u001b[0m     \u001b[38;5;28;01mfor\u001b[39;00m line \u001b[38;5;129;01min\u001b[39;00m file:\n\u001b[0;32m     64\u001b[0m         \u001b[38;5;66;03m# 각 줄을 공백 기준으로 나누고 float 변환\u001b[39;00m\n\u001b[0;32m     65\u001b[0m         bbox \u001b[38;5;241m=\u001b[39m np\u001b[38;5;241m.\u001b[39marray([\u001b[38;5;28mfloat\u001b[39m(value) \u001b[38;5;28;01mfor\u001b[39;00m value \u001b[38;5;129;01min\u001b[39;00m line\u001b[38;5;241m.\u001b[39mstrip()\u001b[38;5;241m.\u001b[39msplit()])\n",
      "File \u001b[1;32md:\\anaconda3\\envs\\myvenv\\Lib\\site-packages\\IPython\\core\\interactiveshell.py:324\u001b[0m, in \u001b[0;36m_modified_open\u001b[1;34m(file, *args, **kwargs)\u001b[0m\n\u001b[0;32m    317\u001b[0m \u001b[38;5;28;01mif\u001b[39;00m file \u001b[38;5;129;01min\u001b[39;00m {\u001b[38;5;241m0\u001b[39m, \u001b[38;5;241m1\u001b[39m, \u001b[38;5;241m2\u001b[39m}:\n\u001b[0;32m    318\u001b[0m     \u001b[38;5;28;01mraise\u001b[39;00m \u001b[38;5;167;01mValueError\u001b[39;00m(\n\u001b[0;32m    319\u001b[0m         \u001b[38;5;124mf\u001b[39m\u001b[38;5;124m\"\u001b[39m\u001b[38;5;124mIPython won\u001b[39m\u001b[38;5;124m'\u001b[39m\u001b[38;5;124mt let you open fd=\u001b[39m\u001b[38;5;132;01m{\u001b[39;00mfile\u001b[38;5;132;01m}\u001b[39;00m\u001b[38;5;124m by default \u001b[39m\u001b[38;5;124m\"\u001b[39m\n\u001b[0;32m    320\u001b[0m         \u001b[38;5;124m\"\u001b[39m\u001b[38;5;124mas it is likely to crash IPython. If you know what you are doing, \u001b[39m\u001b[38;5;124m\"\u001b[39m\n\u001b[0;32m    321\u001b[0m         \u001b[38;5;124m\"\u001b[39m\u001b[38;5;124myou can use builtins\u001b[39m\u001b[38;5;124m'\u001b[39m\u001b[38;5;124m open.\u001b[39m\u001b[38;5;124m\"\u001b[39m\n\u001b[0;32m    322\u001b[0m     )\n\u001b[1;32m--> 324\u001b[0m \u001b[38;5;28;01mreturn\u001b[39;00m \u001b[43mio_open\u001b[49m\u001b[43m(\u001b[49m\u001b[43mfile\u001b[49m\u001b[43m,\u001b[49m\u001b[43m \u001b[49m\u001b[38;5;241;43m*\u001b[39;49m\u001b[43margs\u001b[49m\u001b[43m,\u001b[49m\u001b[43m \u001b[49m\u001b[38;5;241;43m*\u001b[39;49m\u001b[38;5;241;43m*\u001b[39;49m\u001b[43mkwargs\u001b[49m\u001b[43m)\u001b[49m\n",
      "\u001b[1;31mFileNotFoundError\u001b[0m: [Errno 2] No such file or directory: 'D:/Downloads/street-facilities-3/labels/test\\\\results0.txt'"
     ]
    }
   ],
   "source": [
    "import warnings\n",
    "from ultralytics import settings\n",
    "import os\n",
    "import numpy as np\n",
    "import cv2\n",
    "\n",
    "\n",
    "# 정답 라벨에 대한 bbox 시각화\n",
    "def visualize_bbox(\n",
    "    image,\n",
    "    bboxes,  # class, x, y, width, height -> Normalized form\n",
    "    bgr: tuple = (0, 0, 255),  # bbox 테두리 색, BGR\n",
    "    thickness: int = 2,\n",
    "    #    save_path : os.path = None, # 파일명까지 포함해야 함\n",
    "):\n",
    "    h, w, _ = image.shape\n",
    "    for bbox in bboxes:\n",
    "        # bbox 정보\n",
    "        class_type = bbox[0]\n",
    "        xcenter, ycenter, width, height = bbox[1:]\n",
    "        xmin, xmax = xcenter - width / 2, xcenter + width / 2\n",
    "        ymin, ymax = ycenter - height / 2, ycenter + height / 2\n",
    "\n",
    "        # bbox 그리기\n",
    "        pt1 = np.int16(np.ceil([xmin * w, ymin * h]))\n",
    "        pt2 = np.int16(np.ceil([xmax * w, ymax * h]))\n",
    "        image = cv2.rectangle(image, pt1, pt2, bgr, thickness)\n",
    "\n",
    "    return image\n",
    "\n",
    "\n",
    "# 정답 라벨\n",
    "# Local PC environment\n",
    "label_dir = f\"D:/Downloads/street-facilities-3/labels/test\"\n",
    "\n",
    "# bbox 추가하기 전 이미지 -> test 이미지에 대해 prediction 을 거친 이미지들을 사용 (예측bbox 표시됨)\n",
    "img_path = \"./prediction-images\"\n",
    "# bbox 추가 후 저장 경로\n",
    "img_dest_path = \"./prediction-images-with-ans\"\n",
    "\n",
    "images = [f for f in os.listdir(img_path)]\n",
    "\n",
    "os.makedirs(img_dest_path, exist_ok=True)  # 이미 있는 폴더면 생성 x\n",
    "\n",
    "n = len(images)\n",
    "for i, image in enumerate(images):\n",
    "    if i % 300 == 0: print(f\"{i+1} / {n}\")\n",
    "    fname = os.path.splitext(image)[0]\n",
    "    bboxes = []\n",
    "\n",
    "    # load original image\n",
    "    cv2_image = cv2.imread(\n",
    "        os.path.join(img_path, image), cv2.IMREAD_COLOR\n",
    "    )  # 컬러이미지\n",
    "\n",
    "    # load label data\n",
    "    # 경고 무시\n",
    "    with warnings.catch_warnings():\n",
    "        warnings.simplefilter(\"ignore\", category=UserWarning)\n",
    "\n",
    "        label = os.path.join(label_dir, fname) + \".txt\"\n",
    "        with open(label, \"r\") as file:\n",
    "            for line in file:\n",
    "                # 각 줄을 공백 기준으로 나누고 float 변환\n",
    "                bbox = np.array([float(value) for value in line.strip().split()])\n",
    "                bboxes.append(bbox)\n",
    "\n",
    "    save_path = os.path.join(img_dest_path, image)\n",
    "    cv2_image = visualize_bbox(cv2_image, bboxes)\n",
    "    # 이미지 저장\n",
    "    if save_path:\n",
    "        try:\n",
    "            cv2.imwrite(save_path, cv2_image)\n",
    "        except Exception as e:\n",
    "            print(f\"failed to save the image ({save_path}): {e}\")\n"
   ]
  },
  {
   "cell_type": "code",
   "execution_count": null,
   "metadata": {},
   "outputs": [],
   "source": []
  }
 ],
 "metadata": {
  "kernelspec": {
   "display_name": "myvenv",
   "language": "python",
   "name": "python3"
  },
  "language_info": {
   "codemirror_mode": {
    "name": "ipython",
    "version": 3
   },
   "file_extension": ".py",
   "mimetype": "text/x-python",
   "name": "python",
   "nbconvert_exporter": "python",
   "pygments_lexer": "ipython3",
   "version": "3.11.7"
  }
 },
 "nbformat": 4,
 "nbformat_minor": 2
}
