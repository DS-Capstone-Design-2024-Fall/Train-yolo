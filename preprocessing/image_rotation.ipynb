{
 "cells": [
  {
   "cell_type": "code",
   "execution_count": null,
   "metadata": {},
   "outputs": [
    {
     "name": "stdout",
     "output_type": "stream",
     "text": [
      "1/8477\n"
     ]
    }
   ],
   "source": [
    "import os\n",
    "from PIL import Image\n",
    "\n",
    "\n",
    "root_path = \"D:/Downloads/street-facilities-selected\"\n",
    "image_path = os.path.join(root_path, \"images\")\n",
    "save_path = os.path.join(root_path, \"rotated-images\")\n",
    "\n",
    "image_names = [f for f in os.listdir(image_path) \n",
    "                 if f.endswith('.jpg') or f.endswith('.jpeg')] # .jpeg 도 극히 일부 존재\n",
    "\n",
    "class_ids = [\"09\", \"12\", \"13\"]\n",
    "\n",
    "total_cnt = len(image_names)\n",
    "\n",
    "# 이미지 회전\n",
    "for i, image_name in enumerate(image_names):\n",
    "    if i % 200 == 0 : print(f\"{i+1}/{total_cnt}\")\n",
    "    state = int(image_name.split(\"_\")[2]) # state code - 0: 정상 1:불량\n",
    "    class_id = int(image_name.split(\"_\")[1]) # 09 점자블록, 12 보도블록, 13 자전거도로\n",
    "    image_file = os.path.join(image_path, image_name)\n",
    "    image = Image.open(image_file)\n",
    "\n",
    "    # negative samples 는 증강 (회전) x\n",
    "    if state == 0 : \n",
    "        image = Image.open(image_file)\n",
    "        image.save(os.path.join(save_path, image_name))\n",
    "        continue \n",
    "\n",
    "    # 회전\n",
    "    for i, rotateion_degrees in enumerate([0, 45, 90, 135]):\n",
    "        # 클래스 분포 비율이 서로 비슷하도록 조정하여 증강\n",
    "        # 클래스 분포 비율은 split.dataset.ipynb 에서 확인 가능\n",
    "        # 원본 분포는 대략 09, 12, 13 => 1 : 3 : 2 \n",
    "        if class_id == 12 and i > 1: break\n",
    "        elif class_id == 13 and i > 2: break\n",
    "\n",
    "        rotated_image = image.rotate(rotateion_degrees, expand=True) # expanded 된 사이즈는 올림(ceil function) 하여 정수.\n",
    "        # rotated_image.show()\n",
    "\n",
    "        # 저장 \n",
    "        if i!=0:\n",
    "            new_filename = os.path.splitext(image_name)[0] + f\"-{i}.jpg\"\n",
    "        else: \n",
    "            # 원본이미지 (rotation 각도 0 도)\n",
    "            new_filename = image_name\n",
    "\n",
    "        save_file = os.path.join(save_path, new_filename)\n",
    "        # print(save_file)\n",
    "        rotated_image.save(save_file)\n",
    "    # break\n"
   ]
  },
  {
   "cell_type": "code",
   "execution_count": 4,
   "metadata": {},
   "outputs": [
    {
     "data": {
      "text/plain": [
       "9"
      ]
     },
     "execution_count": 4,
     "metadata": {},
     "output_type": "execute_result"
    }
   ],
   "source": [
    "json = \"3_09_1_1_5_1_20210925_0000554674.json\"\n",
    "\n",
    "int(json.split(\"_\")[1])"
   ]
  },
  {
   "cell_type": "code",
   "execution_count": null,
   "metadata": {},
   "outputs": [],
   "source": []
  }
 ],
 "metadata": {
  "kernelspec": {
   "display_name": "myvenv",
   "language": "python",
   "name": "python3"
  },
  "language_info": {
   "codemirror_mode": {
    "name": "ipython",
    "version": 3
   },
   "file_extension": ".py",
   "mimetype": "text/x-python",
   "name": "python",
   "nbconvert_exporter": "python",
   "pygments_lexer": "ipython3",
   "version": "3.11.7"
  }
 },
 "nbformat": 4,
 "nbformat_minor": 2
}
