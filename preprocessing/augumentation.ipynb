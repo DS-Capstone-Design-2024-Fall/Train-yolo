{
 "cells": [
  {
   "cell_type": "markdown",
   "metadata": {},
   "source": [
    "Background sample : 각 class 별 10%\n",
    "\n",
    "street-facilities-2  \n",
    "class 0, 1, 2 (the counts of each object class, not image counts)  \n",
    "[2698 7672 5397]  \n",
    "\n",
    "X4, X1.5 X2  \n",
    "\n",
    "10792, 11508, 10794  \n",
    "\n",
    "X8, X3 X4  \n",
    "21584, 23016, 21588  "
   ]
  },
  {
   "cell_type": "markdown",
   "metadata": {},
   "source": [
    "### Image rotation"
   ]
  },
  {
   "cell_type": "markdown",
   "metadata": {},
   "source": [
    "### 지금은 단순 Rotation 이긴 한데, 추후 수정 혹은 다른 증강방식을 적용 필요\n"
   ]
  },
  {
   "cell_type": "code",
   "execution_count": null,
   "metadata": {},
   "outputs": [],
   "source": [
    "import os\n",
    "import numpy as np\n",
    "import cv2\n",
    "import albumentations as A\n",
    "import matplotlib.pyplot as plt\n",
    "import warnings # to ignore np.loadtxt warning\n",
    "\n",
    "root_path = \"D:/Downloads/street-facilities-selected\"\n",
    "image_path = os.path.join(root_path, \"images\")\n",
    "label_path = os.path.join(root_path, \"labels-txt\")\n",
    "\n",
    "save_image_path = os.path.join(root_path, \"rotated-images\")\n",
    "save_label_path = label_path\n",
    "\n",
    "# image_names = [f for f in os.listdir(image_path) \n",
    "#                  if f.endswith('.jpg') or f.endswith('.jpeg')] # .jpeg 도 극히 일부 존재\n",
    "\n",
    "# test\n",
    "image_names = [\"3_12_1_1_4_1_20210908_0000529500.jpg\"]\n",
    "\n",
    "total_cnt = len(image_names)\n",
    "\n",
    "# ex \"3_12_1_1_4_1_20210908_0000529500.jpg\" -> the class type is 12\n",
    "type_factor = {\n",
    "    9 : 7, # type 9 -> 증강 7회 수행 (X8)\n",
    "    12: 2, # (X3)\n",
    "    13 : 3, # (X4)\n",
    "}\n",
    "\n",
    "# Albumentations Rotate 변환 설정\n",
    "transform = A.Rotate(limit=45, # +- 45 degrees. Range from which a random angle is picked.\n",
    "                    border_mode=cv2.BORDER_REPLICATE, \n",
    "                    p=1.0 # Probability of applying the transform. Default: 0.5.\n",
    "                    )\n",
    "\n",
    "for image_name in image_names:\n",
    "    # 이미지 로드\n",
    "    image = cv2.imread(os.path.join(image_path, image_name))\n",
    "    # image = cv2.cvtColor(image, cv2.COLOR_BGR2RGB)\n",
    "\n",
    "    f_base = os.path.splitext(image_name)[0]\n",
    "    class_type = int(f_base.split(\"_\")[1]) # [9 or 12 or 13]\n",
    "    label_file = os.path.join(label_path, f_base + \".txt\")\n",
    "\n",
    "    # 빈 txt 파일일 경우 뜨는 numpy 경고문 무시\n",
    "    with warnings.catch_warnings():\n",
    "        warnings.simplefilter(\"ignore\") \n",
    "        bboxes = np.loadtxt(fname=label_file, delimiter=\" \", ndmin=2)\n",
    "\n",
    "    # albumentations 처리 형태로 변환\n",
    "    bboxes = np.roll(bboxes, 4, axis=1)\n",
    "\n",
    "    # 변환 적용\n",
    "    # type 마다 반복 수 다름 \n",
    "    for iter in range(type_factor[class_type]):\n",
    "        # 변환\n",
    "        transformed = transform(image=image, bboxes=bboxes)\n",
    "        # 변환 결과\n",
    "        rotated_image = transformed[\"image\"]\n",
    "        rotated_bboxes = transformed['bboxes']\n",
    "\n",
    "        # albumentations 처리 형태에서 yolo label 형태로 다시 변환\n",
    "        rotated_label = np.roll(rotated_bboxes, 1, axis=1)\n",
    "\n",
    "        # 결과 이미지 시각화\n",
    "        # plt.imshow(rotated_image)\n",
    "        # plt.axis(\"off\")\n",
    "        # plt.show()\n",
    "\n",
    "        # print(rotated_label)\n",
    "\n",
    "        # cv2.imwrite(os.path.join(save_image_path, f_base + f\"-{iter+1}.jpg\"), rotated_image)\n",
    "        # np.savetxt(os.path.join(save_label_path, f_base + f\"-{iter+1}.txt\"), rotated_label, delimiter=\" \", fmt='%.8f')\n",
    "\n",
    "        # test\n",
    "        cv2.imwrite(f_base + f\"-{iter+1}.jpg\", rotated_image)\n",
    "        np.savetxt(f_base + f\"-{iter+1}.txt\", rotated_label, delimiter=\" \", fmt='%.8f')\n",
    "\n",
    "    break"
   ]
  },
  {
   "cell_type": "markdown",
   "metadata": {},
   "source": [
    "classId 는 Int 형이여야 하므로 이에 대한 처리 수행"
   ]
  },
  {
   "cell_type": "code",
   "execution_count": null,
   "metadata": {},
   "outputs": [],
   "source": [
    "import os\n",
    "\n",
    "root_path = \"D:/Downloads/street-facilities-selected\"\n",
    "\n",
    "label_path = f\"{root_path}/labels-txt\"\n",
    "\n",
    "labels = [label for label in os.listdir(label_path) if label.endswith('.txt')]\n",
    "total_cnt = len(labels)\n",
    "\n",
    "for i, label in enumerate(labels):\n",
    "    if i % 1000 == 0 :\n",
    "        print(f\"{i+1} / {total_cnt}\")\n",
    "    annotations = []\n",
    "    with open(os.path.join(label_path, label), \"r+\", encoding=\"utf-8\") as f:\n",
    "        # 기존 내용 읽기 및 수정\n",
    "        for line in f:\n",
    "            elems = line.split(\" \")\n",
    "            elems[0] = str(int(float(elems[0]))) # 1.00000000 -> 1 -> '1'\n",
    "            newline = \" \".join(elems)\n",
    "            annotations.append(newline)\n",
    "            \n",
    "        # 새 내용 작성\n",
    "        f.seek(0) # 파일 포인터 이동\n",
    "        for annotation in annotations:\n",
    "            f.write(annotation)\n",
    "        f.truncate() # 파일 포인터 이전 내용만 남기고 나머지 삭제"
   ]
  }
 ],
 "metadata": {
  "kernelspec": {
   "display_name": "myvenv",
   "language": "python",
   "name": "python3"
  },
  "language_info": {
   "codemirror_mode": {
    "name": "ipython",
    "version": 3
   },
   "file_extension": ".py",
   "mimetype": "text/x-python",
   "name": "python",
   "nbconvert_exporter": "python",
   "pygments_lexer": "ipython3",
   "version": "3.11.7"
  }
 },
 "nbformat": 4,
 "nbformat_minor": 2
}
