{
 "cells": [
  {
   "cell_type": "code",
   "execution_count": 11,
   "metadata": {},
   "outputs": [
    {
     "name": "stdout",
     "output_type": "stream",
     "text": [
      "train_ds length :  13524\n",
      "val_ds length :  2898\n",
      "test_ds length :  2898\n"
     ]
    }
   ],
   "source": [
    "import os\n",
    "import shutil\n",
    "import supervision as sv\n",
    "\n",
    "root_path = \"D:/Downloads/street-facilities-selected\"\n",
    "\n",
    "# 데이터셋 로드\n",
    "ds = sv.DetectionDataset.from_yolo(\n",
    "    images_directory_path=f\"{root_path}/rotated-images\",\n",
    "    annotations_directory_path=f\"{root_path}/labels-txt\",\n",
    "    data_yaml_path=f\"{root_path}/street-facilities.yaml\"\n",
    ")\n",
    "\n",
    "# 데이터셋 분리 (train 70%, val 15 % test 15%)\n",
    "train_ds, val_test_ds = ds.split(split_ratio=0.7, random_state=1014, shuffle=True)\n",
    "val_ds, test_ds = val_test_ds.split(split_ratio=0.5, random_state=535, shuffle=True)\n",
    "\n",
    "print(\"train_ds length : \", len(train_ds))\n",
    "print(\"val_ds length : \", len(val_ds))\n",
    "print(\"test_ds length : \", len(test_ds))"
   ]
  },
  {
   "cell_type": "markdown",
   "metadata": {},
   "source": [
    "Negative examples 갯수 분석"
   ]
  },
  {
   "cell_type": "code",
   "execution_count": 4,
   "metadata": {},
   "outputs": [
    {
     "name": "stdout",
     "output_type": "stream",
     "text": [
      "total :  8477\n",
      "negative examples :  2180\n"
     ]
    }
   ],
   "source": [
    "root_path = \"D:/Downloads/street-facilities-selected\"\n",
    "json_path = os.path.join(root_path, \"labels\")\n",
    "\n",
    "labels = [f for f in os.listdir(json_path) if f.endswith(\".json\")]\n",
    "total_cnt = len(labels)\n",
    "\n",
    "negative_sample_cnt = 0\n",
    "for label in labels:\n",
    "    state = int(label.split(\"_\")[2]) # 0 정상 1 불량\n",
    "    if state == 0:\n",
    "        negative_sample_cnt += 1\n",
    "\n",
    "print(\"total : \", total_cnt)\n",
    "print(\"negative examples : \", negative_sample_cnt)"
   ]
  },
  {
   "cell_type": "markdown",
   "metadata": {},
   "source": [
    "### 분할된 데이터셋 클래스 분포 확인"
   ]
  },
  {
   "cell_type": "code",
   "execution_count": 9,
   "metadata": {},
   "outputs": [
    {
     "name": "stdout",
     "output_type": "stream",
     "text": [
      "class 0 (점자블록 파손부), 1(보도블럭 파손부), 2(자전거도로 파손부)\n",
      "[5768 5331 7502]\n",
      "[1099 1211 1572]\n",
      "[1227 1130 1720]\n"
     ]
    }
   ],
   "source": [
    "import numpy as np\n",
    "\n",
    "def count_classes(dataset : sv.DetectionDataset):\n",
    "    n_classes = len(dataset.classes)\n",
    "    \n",
    "    count = np.zeros(n_classes, dtype=np.int16)\n",
    "    for _, _, annotation in dataset.__iter__():\n",
    "        # 사진 하나에 존재하는 0개 이상의 class object 들을 각각 센다\n",
    "        # print(annotation) \n",
    "        for label in annotation.class_id:\n",
    "            count[label] += 1\n",
    "\n",
    "    return count\n",
    "\n",
    "# names:\n",
    "#   0: braille-block-defect\n",
    "#   1: sidewalk-block-defect\n",
    "#   2: bicycle-road-defect\n",
    "\n",
    "print(\"class 0 (점자블록 파손부), 1(보도블럭 파손부), 2(자전거도로 파손부)\")\n",
    "for ds in [train_ds, val_ds, test_ds]:\n",
    "    print(count_classes(ds))"
   ]
  },
  {
   "cell_type": "markdown",
   "metadata": {},
   "source": [
    "### 혹시 모를 버그 확인  \n",
    "당연하지만 빈 라벨 파일에 대해서는 세지 않는다."
   ]
  },
  {
   "cell_type": "code",
   "execution_count": 6,
   "metadata": {},
   "outputs": [],
   "source": [
    "# 정상 보도블럭에 대한 라벨 파일. (바운딩 박스 x) 단지 빈 txt 파일이다.\n",
    "# root_path = \"D:/Downloads/street-facilities-selected\"\n",
    "# empty_train_label = f\"{root_path}/labels-txt/2_09_0_1_4_1_20210927_0000569294.txt\" \n",
    "\n",
    "# list = [0, 0, 0]\n",
    "\n",
    "# with open(empty_train_label, 'r', encoding='utf-8') as f:\n",
    "#     for newline in f.readlines():\n",
    "#         list[newline] += 1\n",
    "\n",
    "# print(list)"
   ]
  },
  {
   "cell_type": "code",
   "execution_count": 10,
   "metadata": {},
   "outputs": [
    {
     "name": "stdout",
     "output_type": "stream",
     "text": [
      "1 / 13524\n"
     ]
    },
    {
     "ename": "FileNotFoundError",
     "evalue": "[Errno 2] No such file or directory: 'D:\\\\Downloads\\\\street-facilities-selected\\\\labels-txt\\\\2_09_1_1_1_4_20211003_0000613150-4.txt'",
     "output_type": "error",
     "traceback": [
      "\u001b[1;31m---------------------------------------------------------------------------\u001b[0m",
      "\u001b[1;31mFileNotFoundError\u001b[0m                         Traceback (most recent call last)",
      "Cell \u001b[1;32mIn[10], line 38\u001b[0m\n\u001b[0;32m     34\u001b[0m         i \u001b[38;5;241m+\u001b[39m\u001b[38;5;241m=\u001b[39m \u001b[38;5;241m1\u001b[39m\n\u001b[0;32m     37\u001b[0m \u001b[38;5;66;03m# train 데이터셋 저장\u001b[39;00m\n\u001b[1;32m---> 38\u001b[0m \u001b[43msave_dataset\u001b[49m\u001b[43m(\u001b[49m\u001b[43mtrain_ds\u001b[49m\u001b[43m,\u001b[49m\u001b[43m \u001b[49m\u001b[43mtrain_images_dir\u001b[49m\u001b[43m,\u001b[49m\u001b[43m \u001b[49m\u001b[43mtrain_labels_dir\u001b[49m\u001b[43m)\u001b[49m\n\u001b[0;32m     39\u001b[0m \u001b[38;5;66;03m# validation 데이터셋 저장\u001b[39;00m\n\u001b[0;32m     40\u001b[0m save_dataset(val_ds, val_images_dir, val_labels_dir)\n",
      "Cell \u001b[1;32mIn[10], line 33\u001b[0m, in \u001b[0;36msave_dataset\u001b[1;34m(dataset, images_dir_to_save, labels_dir_to_save)\u001b[0m\n\u001b[0;32m     31\u001b[0m \u001b[38;5;66;03m# 이미지 및 라벨을 각각 지정된 폴더로 복사\u001b[39;00m\n\u001b[0;32m     32\u001b[0m shutil\u001b[38;5;241m.\u001b[39mcopy(image_path, os\u001b[38;5;241m.\u001b[39mpath\u001b[38;5;241m.\u001b[39mjoin(images_dir_to_save, image_filename))\n\u001b[1;32m---> 33\u001b[0m \u001b[43mshutil\u001b[49m\u001b[38;5;241;43m.\u001b[39;49m\u001b[43mcopy\u001b[49m\u001b[43m(\u001b[49m\u001b[43mlabel_path\u001b[49m\u001b[43m,\u001b[49m\u001b[43m \u001b[49m\u001b[43mos\u001b[49m\u001b[38;5;241;43m.\u001b[39;49m\u001b[43mpath\u001b[49m\u001b[38;5;241;43m.\u001b[39;49m\u001b[43mjoin\u001b[49m\u001b[43m(\u001b[49m\u001b[43mlabels_dir_to_save\u001b[49m\u001b[43m,\u001b[49m\u001b[43m \u001b[49m\u001b[43mlabel_filename\u001b[49m\u001b[43m)\u001b[49m\u001b[43m)\u001b[49m\n\u001b[0;32m     34\u001b[0m i \u001b[38;5;241m+\u001b[39m\u001b[38;5;241m=\u001b[39m \u001b[38;5;241m1\u001b[39m\n",
      "File \u001b[1;32md:\\anaconda3\\envs\\myvenv\\Lib\\shutil.py:419\u001b[0m, in \u001b[0;36mcopy\u001b[1;34m(src, dst, follow_symlinks)\u001b[0m\n\u001b[0;32m    417\u001b[0m \u001b[38;5;28;01mif\u001b[39;00m os\u001b[38;5;241m.\u001b[39mpath\u001b[38;5;241m.\u001b[39misdir(dst):\n\u001b[0;32m    418\u001b[0m     dst \u001b[38;5;241m=\u001b[39m os\u001b[38;5;241m.\u001b[39mpath\u001b[38;5;241m.\u001b[39mjoin(dst, os\u001b[38;5;241m.\u001b[39mpath\u001b[38;5;241m.\u001b[39mbasename(src))\n\u001b[1;32m--> 419\u001b[0m \u001b[43mcopyfile\u001b[49m\u001b[43m(\u001b[49m\u001b[43msrc\u001b[49m\u001b[43m,\u001b[49m\u001b[43m \u001b[49m\u001b[43mdst\u001b[49m\u001b[43m,\u001b[49m\u001b[43m \u001b[49m\u001b[43mfollow_symlinks\u001b[49m\u001b[38;5;241;43m=\u001b[39;49m\u001b[43mfollow_symlinks\u001b[49m\u001b[43m)\u001b[49m\n\u001b[0;32m    420\u001b[0m copymode(src, dst, follow_symlinks\u001b[38;5;241m=\u001b[39mfollow_symlinks)\n\u001b[0;32m    421\u001b[0m \u001b[38;5;28;01mreturn\u001b[39;00m dst\n",
      "File \u001b[1;32md:\\anaconda3\\envs\\myvenv\\Lib\\shutil.py:256\u001b[0m, in \u001b[0;36mcopyfile\u001b[1;34m(src, dst, follow_symlinks)\u001b[0m\n\u001b[0;32m    254\u001b[0m     os\u001b[38;5;241m.\u001b[39msymlink(os\u001b[38;5;241m.\u001b[39mreadlink(src), dst)\n\u001b[0;32m    255\u001b[0m \u001b[38;5;28;01melse\u001b[39;00m:\n\u001b[1;32m--> 256\u001b[0m     \u001b[38;5;28;01mwith\u001b[39;00m \u001b[38;5;28mopen\u001b[39m(src, \u001b[38;5;124m'\u001b[39m\u001b[38;5;124mrb\u001b[39m\u001b[38;5;124m'\u001b[39m) \u001b[38;5;28;01mas\u001b[39;00m fsrc:\n\u001b[0;32m    257\u001b[0m         \u001b[38;5;28;01mtry\u001b[39;00m:\n\u001b[0;32m    258\u001b[0m             \u001b[38;5;28;01mwith\u001b[39;00m \u001b[38;5;28mopen\u001b[39m(dst, \u001b[38;5;124m'\u001b[39m\u001b[38;5;124mwb\u001b[39m\u001b[38;5;124m'\u001b[39m) \u001b[38;5;28;01mas\u001b[39;00m fdst:\n\u001b[0;32m    259\u001b[0m                 \u001b[38;5;66;03m# macOS\u001b[39;00m\n",
      "\u001b[1;31mFileNotFoundError\u001b[0m: [Errno 2] No such file or directory: 'D:\\\\Downloads\\\\street-facilities-selected\\\\labels-txt\\\\2_09_1_1_1_4_20211003_0000613150-4.txt'"
     ]
    }
   ],
   "source": [
    "# 저장할 디렉토리 경로 설정\n",
    "root_path = \"D:/Downloads/street-facilities-3\"\n",
    "train_images_dir = f\"{root_path}/images/train\"\n",
    "train_labels_dir = f\"{root_path}/labels/train\"\n",
    "\n",
    "val_images_dir = f\"{root_path}/images/val\"\n",
    "val_labels_dir = f\"{root_path}/labels/val\"\n",
    "\n",
    "test_images_dir = f\"{root_path}/images/test\"\n",
    "test_labels_dir = f\"{root_path}/labels/test\"\n",
    "\n",
    "# 디렉토리 생성 (존재하지 않는 경우에만)\n",
    "os.makedirs(train_images_dir, exist_ok=True)\n",
    "os.makedirs(train_labels_dir, exist_ok=True)\n",
    "os.makedirs(test_images_dir, exist_ok=True)\n",
    "os.makedirs(test_labels_dir, exist_ok=True)\n",
    "\n",
    "# DetectionDataset 객체의 이미지 및 라벨을 복사하여 저장\n",
    "def save_dataset(dataset, images_dir_to_save, labels_dir_to_save):\n",
    "    i = 1\n",
    "    total = len(dataset)\n",
    "    for image_path, image, annotation in dataset.__iter__():\n",
    "        if i % 200 == 1 : print(f\"{i} / {total}\")\n",
    "        # image_path : path/image_filename.jpg or .jpeg\n",
    "        image_filename = os.path.basename(image_path) # 이미지 파일 이름\n",
    "        label_filename = os.path.splitext(image_filename)[0] + \".txt\" # 확장자명만 변경 (.jpg or .jpeg -> .txt)\n",
    "\n",
    "        # label_path 조합\n",
    "        label_path = \"\\\\\".join(image_path.split(\"\\\\\")[:-2] + [\"labels-txt\", label_filename])\n",
    "        \n",
    "        # 이미지 및 라벨을 각각 지정된 폴더로 복사\n",
    "        shutil.copy(image_path, os.path.join(images_dir_to_save, image_filename))\n",
    "        shutil.copy(label_path, os.path.join(labels_dir_to_save, label_filename))\n",
    "        i += 1\n",
    "\n",
    "\n",
    "# train 데이터셋 저장\n",
    "save_dataset(train_ds, train_images_dir, train_labels_dir)\n",
    "# validation 데이터셋 저장\n",
    "save_dataset(val_ds, val_images_dir, val_labels_dir)\n",
    "# test 데이터셋 저장\n",
    "save_dataset(test_ds, test_images_dir, test_labels_dir)\n",
    "\n",
    "print(\"Train/Validation/Test 데이터셋 저장 완료.\")"
   ]
  },
  {
   "cell_type": "code",
   "execution_count": null,
   "metadata": {},
   "outputs": [],
   "source": []
  }
 ],
 "metadata": {
  "kernelspec": {
   "display_name": "myvenv",
   "language": "python",
   "name": "python3"
  },
  "language_info": {
   "codemirror_mode": {
    "name": "ipython",
    "version": 3
   },
   "file_extension": ".py",
   "mimetype": "text/x-python",
   "name": "python",
   "nbconvert_exporter": "python",
   "pygments_lexer": "ipython3",
   "version": "3.11.7"
  }
 },
 "nbformat": 4,
 "nbformat_minor": 2
}
