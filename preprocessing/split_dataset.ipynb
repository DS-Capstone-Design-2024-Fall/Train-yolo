{
 "cells": [
  {
   "cell_type": "code",
   "execution_count": 3,
   "metadata": {},
   "outputs": [
    {
     "name": "stdout",
     "output_type": "stream",
     "text": [
      "train_ds length :  5933\n",
      "val_ds length :  1272\n",
      "test_ds length :  1272\n"
     ]
    }
   ],
   "source": [
    "import os\n",
    "import shutil\n",
    "import supervision as sv\n",
    "\n",
    "root_path = \"D:/Downloads/street-facilities-selected\"\n",
    "\n",
    "# 데이터셋 로드\n",
    "ds = sv.DetectionDataset.from_yolo(\n",
    "    images_directory_path=f\"{root_path}/images\",\n",
    "    annotations_directory_path=f\"{root_path}/labels-txt\",\n",
    "    data_yaml_path=f\"{root_path}/street-facilities.yaml\"\n",
    ")\n",
    "\n",
    "# 데이터셋 분리 (train 70%, val 15 % test 15%)\n",
    "train_ds, val_test_ds = ds.split(split_ratio=0.7, random_state=1014, shuffle=True)\n",
    "val_ds, test_ds = val_test_ds.split(split_ratio=0.5, random_state=535, shuffle=True)\n",
    "\n",
    "print(\"train_ds length : \", len(train_ds))\n",
    "print(\"val_ds length : \", len(val_ds))\n",
    "print(\"test_ds length : \", len(test_ds))"
   ]
  },
  {
   "cell_type": "markdown",
   "metadata": {},
   "source": [
    "### 분할된 데이터셋 클래스 분포 확인"
   ]
  },
  {
   "cell_type": "code",
   "execution_count": 5,
   "metadata": {},
   "outputs": [
    {
     "name": "stdout",
     "output_type": "stream",
     "text": [
      "class 0 (점자블록 파손부), 1(보도블럭 파손부), 2(자전거도로 파손부)\n",
      "[1901 5303 3798]\n",
      "[ 412 1180  787]\n",
      "[ 385 1189  812]\n"
     ]
    }
   ],
   "source": [
    "import numpy as np\n",
    "\n",
    "def class_counts(dataset : sv.DetectionDataset):\n",
    "    n_classes = len(dataset.classes)\n",
    "    \n",
    "    count = np.zeros(n_classes, dtype=np.int16)\n",
    "    for _, _, annotation in dataset.__iter__():\n",
    "        # 사진 하나에 존재하는 0개 이상의 class object 들을 각각 센다\n",
    "        # print(annotation) \n",
    "        for label in annotation.class_id:\n",
    "            count[label] += 1\n",
    "\n",
    "    return count\n",
    "\n",
    "# names:\n",
    "#   0: braille-block-defect\n",
    "#   1: sidewalk-block-defect\n",
    "#   2: bicycle-road-defect\n",
    "\n",
    "print(\"class 0 (점자블록 파손부), 1(보도블럭 파손부), 2(자전거도로 파손부)\")\n",
    "for ds in [train_ds, val_ds, test_ds]:\n",
    "    print(class_counts(ds))"
   ]
  },
  {
   "cell_type": "markdown",
   "metadata": {},
   "source": [
    "### 혹시 모를 버그 확인  \n",
    "당연하지만 빈 라벨 파일에 대해서는 세지 않는다."
   ]
  },
  {
   "cell_type": "code",
   "execution_count": null,
   "metadata": {},
   "outputs": [
    {
     "name": "stdout",
     "output_type": "stream",
     "text": [
      "[0, 0, 0]\n"
     ]
    }
   ],
   "source": [
    "# 정상 보도블럭에 대한 라벨 파일. (바운딩 박스 x) 단지 빈 txt 파일이다.\n",
    "root_path = \"D:/Downloads/street-facilities-selected\"\n",
    "empty_train_label = f\"{root_path}/labels-txt/2_09_0_1_4_1_20210927_0000569294.txt\" \n",
    "\n",
    "list = [0, 0, 0]\n",
    "\n",
    "with open(empty_train_label, 'r', encoding='utf-8') as f:\n",
    "    for newline in f.readlines():\n",
    "        list[newline] += 1\n",
    "\n",
    "print(list)"
   ]
  },
  {
   "cell_type": "code",
   "execution_count": null,
   "metadata": {},
   "outputs": [
    {
     "name": "stdout",
     "output_type": "stream",
     "text": [
      "1 / 5933\n",
      "201 / 5933\n",
      "401 / 5933\n",
      "601 / 5933\n",
      "801 / 5933\n",
      "1001 / 5933\n",
      "1201 / 5933\n",
      "1401 / 5933\n",
      "1601 / 5933\n",
      "1801 / 5933\n",
      "2001 / 5933\n",
      "2201 / 5933\n",
      "2401 / 5933\n",
      "2601 / 5933\n",
      "2801 / 5933\n",
      "3001 / 5933\n",
      "3201 / 5933\n",
      "3401 / 5933\n",
      "3601 / 5933\n",
      "3801 / 5933\n",
      "4001 / 5933\n",
      "4201 / 5933\n",
      "4401 / 5933\n",
      "4601 / 5933\n",
      "4801 / 5933\n",
      "5001 / 5933\n",
      "5201 / 5933\n",
      "5401 / 5933\n",
      "5601 / 5933\n",
      "5801 / 5933\n",
      "1 / 1272\n",
      "201 / 1272\n",
      "401 / 1272\n",
      "601 / 1272\n",
      "801 / 1272\n",
      "1001 / 1272\n",
      "1201 / 1272\n",
      "1 / 1272\n",
      "201 / 1272\n",
      "401 / 1272\n",
      "601 / 1272\n",
      "801 / 1272\n",
      "1001 / 1272\n",
      "1201 / 1272\n",
      "Train/Test 데이터셋 저장 완료.\n"
     ]
    }
   ],
   "source": [
    "# 저장할 디렉토리 경로 설정\n",
    "root_path = \"D:/Downloads/street-facilities-2\"\n",
    "train_images_dir = f\"{root_path}/images/train\"\n",
    "train_labels_dir = f\"{root_path}/labels/train\"\n",
    "\n",
    "val_images_dir = f\"{root_path}/images/val\"\n",
    "val_labels_dir = f\"{root_path}/labels/val\"\n",
    "\n",
    "test_images_dir = f\"{root_path}/images/test\"\n",
    "test_labels_dir = f\"{root_path}/labels/test\"\n",
    "\n",
    "# 디렉토리 생성 (존재하지 않는 경우에만)\n",
    "os.makedirs(train_images_dir, exist_ok=True)\n",
    "os.makedirs(train_labels_dir, exist_ok=True)\n",
    "os.makedirs(test_images_dir, exist_ok=True)\n",
    "os.makedirs(test_labels_dir, exist_ok=True)\n",
    "\n",
    "# DetectionDataset 객체의 이미지 및 라벨을 복사하여 저장\n",
    "def save_dataset(dataset, images_dir_to_save, labels_dir_to_save):\n",
    "    i = 1\n",
    "    total = len(dataset)\n",
    "    for image_path, image, annotation in dataset.__iter__():\n",
    "        if i % 200 == 1 : print(f\"{i} / {total}\")\n",
    "        # image_path : path/image_filename.jpg or .jpeg\n",
    "        image_filename = os.path.basename(image_path) # 이미지 파일 이름\n",
    "        label_filename = os.path.splitext(image_filename)[0] + \".txt\" # 확장자명만 변경 (.jpg or .jpeg -> .txt)\n",
    "\n",
    "        # label_path 조합\n",
    "        label_path = \"\\\\\".join(image_path.split(\"\\\\\")[:-2] + [\"labels-txt\", label_filename])\n",
    "        \n",
    "        # 이미지 및 라벨을 각각 지정된 폴더로 복사\n",
    "        shutil.copy(image_path, os.path.join(images_dir_to_save, image_filename))\n",
    "        shutil.copy(label_path, os.path.join(labels_dir_to_save, label_filename))\n",
    "        i += 1\n",
    "\n",
    "\n",
    "''' \n",
    "    가끔 원래 디렉토리 외에 다른 디렉토리에'도' 저장되는 경우가 있는 듯 하다. 왜 그런지는 모르겠다.\n",
    "    ex) .jpg 중 일부가 /labels 폴더에 저장되는 경우\n",
    "'''\n",
    "\n",
    "# train 데이터셋 저장\n",
    "save_dataset(train_ds, train_images_dir, train_labels_dir)\n",
    "# validation 데이터셋 저장\n",
    "save_dataset(val_ds, val_images_dir, val_labels_dir)\n",
    "# test 데이터셋 저장\n",
    "save_dataset(test_ds, test_images_dir, test_labels_dir)\n",
    "\n",
    "print(\"Train/Validation/Test 데이터셋 저장 완료.\")"
   ]
  },
  {
   "cell_type": "code",
   "execution_count": 44,
   "metadata": {},
   "outputs": [
    {
     "name": "stdout",
     "output_type": "stream",
     "text": [
      "['..', 'dataset', 'street-facilities', 'images', '3_13_1_1_2_1_20211029_0000927765.txt']\n",
      "\n",
      " ..\\dataset\\street-facilities\\images\\3_13_1_1_2_1_20211029_0000927765.txt\n"
     ]
    }
   ],
   "source": [
    "a = \"..\\\\dataset\\\\street-facilities\\\\images\\\\3_13_1_1_2_1_20211029_0000927765.jpg\"\n",
    "b = a.split(\"\\\\\")[:-1] + [\"3_13_1_1_2_1_20211029_0000927765.txt\"]\n",
    "print(b)\n",
    "\n",
    "print(\"\\n\", \"\\\\\".join(b))"
   ]
  },
  {
   "cell_type": "code",
   "execution_count": null,
   "metadata": {},
   "outputs": [],
   "source": []
  }
 ],
 "metadata": {
  "kernelspec": {
   "display_name": "myvenv",
   "language": "python",
   "name": "python3"
  },
  "language_info": {
   "codemirror_mode": {
    "name": "ipython",
    "version": 3
   },
   "file_extension": ".py",
   "mimetype": "text/x-python",
   "name": "python",
   "nbconvert_exporter": "python",
   "pygments_lexer": "ipython3",
   "version": "3.11.7"
  }
 },
 "nbformat": 4,
 "nbformat_minor": 2
}
